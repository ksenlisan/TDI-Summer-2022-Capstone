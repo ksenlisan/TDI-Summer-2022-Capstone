{
 "cells": [
  {
   "cell_type": "markdown",
   "id": "d69d5cea",
   "metadata": {},
   "source": [
    "# Data preparation\n",
    "The LA crime data was available by year (or year to date for the current year) in separate spreadsheets.\n",
    "I performed the following manipulations: \n",
    "- filtered each dataset to remove categories/columns irrelevant for my studies\n",
    "- separated out West hollywood data from the rest\n",
    "- Wrote modified datasets into a new csv file, merging all years together\n",
    "- Thus, created 2018-2022.csv where all West Hollywood data is stored and 2018-2022_la.csv where all LA data is stored."
   ]
  },
  {
   "cell_type": "code",
   "execution_count": 1,
   "id": "fedd615d",
   "metadata": {},
   "outputs": [],
   "source": [
    "import pandas as pd\n",
    "import numpy as np\n",
    "import seaborn as sns\n",
    "import matplotlib.pyplot as plt"
   ]
  },
  {
   "cell_type": "code",
   "execution_count": 3,
   "id": "a2fb93b7",
   "metadata": {},
   "outputs": [],
   "source": [
    "df2021 = pd.read_csv('2021-PART_I_AND_II_CRIMES.csv')"
   ]
  },
  {
   "cell_type": "code",
   "execution_count": 4,
   "id": "1cf411a1",
   "metadata": {},
   "outputs": [
    {
     "data": {
      "text/html": [
       "<div>\n",
       "<style scoped>\n",
       "    .dataframe tbody tr th:only-of-type {\n",
       "        vertical-align: middle;\n",
       "    }\n",
       "\n",
       "    .dataframe tbody tr th {\n",
       "        vertical-align: top;\n",
       "    }\n",
       "\n",
       "    .dataframe thead th {\n",
       "        text-align: right;\n",
       "    }\n",
       "</style>\n",
       "<table border=\"1\" class=\"dataframe\">\n",
       "  <thead>\n",
       "    <tr style=\"text-align: right;\">\n",
       "      <th></th>\n",
       "      <th>LURN_SAK</th>\n",
       "      <th>INCIDENT_DATE</th>\n",
       "      <th>INCIDENT_REPORTED_DATE</th>\n",
       "      <th>CATEGORY</th>\n",
       "      <th>STAT</th>\n",
       "      <th>STAT_DESC</th>\n",
       "      <th>ADDRESS</th>\n",
       "      <th>STREET</th>\n",
       "      <th>CITY</th>\n",
       "      <th>ZIP</th>\n",
       "      <th>INCIDENT_ID</th>\n",
       "      <th>REPORTING_DISTRICT</th>\n",
       "      <th>SEQ</th>\n",
       "      <th>GANG_RELATED</th>\n",
       "      <th>UNIT_ID</th>\n",
       "      <th>UNIT_NAME</th>\n",
       "      <th>LONGITUDE</th>\n",
       "      <th>LATITUDE</th>\n",
       "      <th>PART_CATEGORY</th>\n",
       "    </tr>\n",
       "  </thead>\n",
       "  <tbody>\n",
       "    <tr>\n",
       "      <th>0</th>\n",
       "      <td>19621802</td>\n",
       "      <td>06/11/2021 03:06:00 AM</td>\n",
       "      <td>06/12/2021</td>\n",
       "      <td>VANDALISM</td>\n",
       "      <td>263</td>\n",
       "      <td>VANDALISM FELONY</td>\n",
       "      <td>3600 IMPERIAL HWY, LYNWOOD, CA</td>\n",
       "      <td>3600 IMPERIAL HWY</td>\n",
       "      <td>LYNWOOD</td>\n",
       "      <td>NaN</td>\n",
       "      <td>921-07849-2112</td>\n",
       "      <td>2112</td>\n",
       "      <td>7849</td>\n",
       "      <td>NO</td>\n",
       "      <td>CA01900V3</td>\n",
       "      <td>CENTURY</td>\n",
       "      <td>-118.201</td>\n",
       "      <td>33.931</td>\n",
       "      <td>2</td>\n",
       "    </tr>\n",
       "    <tr>\n",
       "      <th>1</th>\n",
       "      <td>19510392</td>\n",
       "      <td>02/12/2021 05:25:00 PM</td>\n",
       "      <td>02/12/2021</td>\n",
       "      <td>LIQUOR LAWS</td>\n",
       "      <td>198</td>\n",
       "      <td>LIQUOR LAWS: All Other Liquor Law Violations</td>\n",
       "      <td>ROSEMEAD BLVD AND RUSH ST, SOUTH EL MONTE, CA ...</td>\n",
       "      <td>ROSEMEAD BLVD AND RUSH ST</td>\n",
       "      <td>SOUTH EL MONTE</td>\n",
       "      <td>91733.0</td>\n",
       "      <td>921-01800-0560</td>\n",
       "      <td>560</td>\n",
       "      <td>1800</td>\n",
       "      <td>NO</td>\n",
       "      <td>CA0190005</td>\n",
       "      <td>TEMPLE</td>\n",
       "      <td>-118.064</td>\n",
       "      <td>34.051</td>\n",
       "      <td>2</td>\n",
       "    </tr>\n",
       "    <tr>\n",
       "      <th>2</th>\n",
       "      <td>19602385</td>\n",
       "      <td>05/19/2021 03:30:00 PM</td>\n",
       "      <td>05/23/2021</td>\n",
       "      <td>GRAND THEFT AUTO</td>\n",
       "      <td>91</td>\n",
       "      <td>GRAND THEFT VEHICLE (GTA): Automobile/Passenge...</td>\n",
       "      <td>3300 LYNOAK DR, CLAREMONT, CA 91711</td>\n",
       "      <td>3300 LYNOAK DR</td>\n",
       "      <td>CLAREMONT</td>\n",
       "      <td>91711.0</td>\n",
       "      <td>921-02607-0876</td>\n",
       "      <td>876</td>\n",
       "      <td>2607</td>\n",
       "      <td>NO</td>\n",
       "      <td>CA0190008</td>\n",
       "      <td>SAN DIMAS</td>\n",
       "      <td>-117.739</td>\n",
       "      <td>34.104</td>\n",
       "      <td>1</td>\n",
       "    </tr>\n",
       "    <tr>\n",
       "      <th>3</th>\n",
       "      <td>19631339</td>\n",
       "      <td>06/24/2021 01:00:00 AM</td>\n",
       "      <td>06/24/2021</td>\n",
       "      <td>GRAND THEFT AUTO</td>\n",
       "      <td>91</td>\n",
       "      <td>GRAND THEFT VEHICLE (GTA): Automobile/Passenge...</td>\n",
       "      <td>22400 S ISLAND AVE, CARSON, CA</td>\n",
       "      <td>22400 S ISLAND AVE</td>\n",
       "      <td>CARSON</td>\n",
       "      <td>NaN</td>\n",
       "      <td>921-06082-1624</td>\n",
       "      <td>1624</td>\n",
       "      <td>6082</td>\n",
       "      <td>NO</td>\n",
       "      <td>CA0190016</td>\n",
       "      <td>CARSON</td>\n",
       "      <td>-118.266</td>\n",
       "      <td>33.822</td>\n",
       "      <td>1</td>\n",
       "    </tr>\n",
       "    <tr>\n",
       "      <th>4</th>\n",
       "      <td>19559742</td>\n",
       "      <td>04/03/2021 12:00:00 PM</td>\n",
       "      <td>04/08/2021</td>\n",
       "      <td>LARCENY THEFT</td>\n",
       "      <td>389</td>\n",
       "      <td>THEFT, PETTY: Other (From Prvt Res, Boat, Plan...</td>\n",
       "      <td>1700 MANZANITA PARK AVE, MALIBU, CA</td>\n",
       "      <td>1700 MANZANITA PARK AVE</td>\n",
       "      <td>MALIBU</td>\n",
       "      <td>NaN</td>\n",
       "      <td>921-01913-1026</td>\n",
       "      <td>1026</td>\n",
       "      <td>1913</td>\n",
       "      <td>NO</td>\n",
       "      <td>CA0190022</td>\n",
       "      <td>MALIBU/LOST HILLS</td>\n",
       "      <td>-118.647</td>\n",
       "      <td>34.067</td>\n",
       "      <td>1</td>\n",
       "    </tr>\n",
       "  </tbody>\n",
       "</table>\n",
       "</div>"
      ],
      "text/plain": [
       "   LURN_SAK           INCIDENT_DATE INCIDENT_REPORTED_DATE          CATEGORY  \\\n",
       "0  19621802  06/11/2021 03:06:00 AM             06/12/2021         VANDALISM   \n",
       "1  19510392  02/12/2021 05:25:00 PM             02/12/2021       LIQUOR LAWS   \n",
       "2  19602385  05/19/2021 03:30:00 PM             05/23/2021  GRAND THEFT AUTO   \n",
       "3  19631339  06/24/2021 01:00:00 AM             06/24/2021  GRAND THEFT AUTO   \n",
       "4  19559742  04/03/2021 12:00:00 PM             04/08/2021     LARCENY THEFT   \n",
       "\n",
       "   STAT                                          STAT_DESC  \\\n",
       "0   263                                   VANDALISM FELONY   \n",
       "1   198       LIQUOR LAWS: All Other Liquor Law Violations   \n",
       "2    91  GRAND THEFT VEHICLE (GTA): Automobile/Passenge...   \n",
       "3    91  GRAND THEFT VEHICLE (GTA): Automobile/Passenge...   \n",
       "4   389  THEFT, PETTY: Other (From Prvt Res, Boat, Plan...   \n",
       "\n",
       "                                             ADDRESS  \\\n",
       "0                     3600 IMPERIAL HWY, LYNWOOD, CA   \n",
       "1  ROSEMEAD BLVD AND RUSH ST, SOUTH EL MONTE, CA ...   \n",
       "2                3300 LYNOAK DR, CLAREMONT, CA 91711   \n",
       "3                     22400 S ISLAND AVE, CARSON, CA   \n",
       "4                1700 MANZANITA PARK AVE, MALIBU, CA   \n",
       "\n",
       "                      STREET            CITY      ZIP     INCIDENT_ID  \\\n",
       "0          3600 IMPERIAL HWY         LYNWOOD      NaN  921-07849-2112   \n",
       "1  ROSEMEAD BLVD AND RUSH ST  SOUTH EL MONTE  91733.0  921-01800-0560   \n",
       "2             3300 LYNOAK DR       CLAREMONT  91711.0  921-02607-0876   \n",
       "3         22400 S ISLAND AVE          CARSON      NaN  921-06082-1624   \n",
       "4    1700 MANZANITA PARK AVE          MALIBU      NaN  921-01913-1026   \n",
       "\n",
       "   REPORTING_DISTRICT   SEQ GANG_RELATED    UNIT_ID          UNIT_NAME  \\\n",
       "0                2112  7849           NO  CA01900V3            CENTURY   \n",
       "1                 560  1800           NO  CA0190005             TEMPLE   \n",
       "2                 876  2607           NO  CA0190008          SAN DIMAS   \n",
       "3                1624  6082           NO  CA0190016             CARSON   \n",
       "4                1026  1913           NO  CA0190022  MALIBU/LOST HILLS   \n",
       "\n",
       "   LONGITUDE  LATITUDE  PART_CATEGORY  \n",
       "0   -118.201    33.931              2  \n",
       "1   -118.064    34.051              2  \n",
       "2   -117.739    34.104              1  \n",
       "3   -118.266    33.822              1  \n",
       "4   -118.647    34.067              1  "
      ]
     },
     "execution_count": 4,
     "metadata": {},
     "output_type": "execute_result"
    }
   ],
   "source": [
    "df2021.head()"
   ]
  },
  {
   "cell_type": "code",
   "execution_count": 4,
   "id": "76ce0871",
   "metadata": {},
   "outputs": [
    {
     "data": {
      "text/plain": [
       "array(['VANDALISM', 'LIQUOR LAWS', 'GRAND THEFT AUTO', 'LARCENY THEFT',\n",
       "       'MISDEMEANORS MISCELLANEOUS', 'OFFENSES AGAINST FAMILY',\n",
       "       'NON-AGGRAVATED ASSAULTS', 'VEHICLE / BOATING LAWS', 'ROBBERY',\n",
       "       'NARCOTICS', 'BURGLARY', 'WEAPON LAWS', 'DRUNK / ALCOHOL / DRUGS',\n",
       "       'FELONIES MISCELLANEOUS', 'FORGERY', 'FRAUD AND NSF CHECKS',\n",
       "       'AGGRAVATED ASSAULT', 'SEX OFFENSES MISDEMEANORS',\n",
       "       'RECEIVING STOLEN PROPERTY', 'SEX OFFENSES FELONIES',\n",
       "       'DRUNK DRIVING VEHICLE / BOAT', 'FORCIBLE RAPE',\n",
       "       'DISORDERLY CONDUCT', 'WARRANTS', 'ARSON', 'VAGRANCY',\n",
       "       'CRIMINAL HOMICIDE', 'GAMBLING', 'FEDERAL OFFENSES WITH MONEY',\n",
       "       'FEDERAL OFFENSES W/O MONEY'], dtype=object)"
      ]
     },
     "execution_count": 4,
     "metadata": {},
     "output_type": "execute_result"
    }
   ],
   "source": [
    "df2021['CATEGORY'].unique()"
   ]
  },
  {
   "cell_type": "code",
   "execution_count": 5,
   "id": "fc1e0e8a",
   "metadata": {},
   "outputs": [],
   "source": [
    "# Here are the filtration parameters\n",
    "excluded_categories = ['LIQUOR LAWS', 'VEHICLE / BOATING LAWS', 'FRAUD AND NSF CHECKS', 'RECEIVING STOLEN PROPERTY',\n",
    "                      'WARRANTS', 'GAMBLING', 'DRUNK DRIVING VEHICLE / BOAT']\n",
    "\n",
    "included_columns = ['LURN_SAK', 'INCIDENT_DATE', 'CATEGORY', 'STAT', 'ADDRESS', 'LONGITUDE', 'LATITUDE', 'PART_CATEGORY', 'CITY', 'ZIP', 'UNIT_NAME' ]\n",
    "boundaries = [[-118.4002, -118.3428], [34.0751, 34.1058]] #for approximate West Hollywood geolocation"
   ]
  },
  {
   "cell_type": "code",
   "execution_count": 6,
   "id": "aaeddd75",
   "metadata": {},
   "outputs": [],
   "source": [
    "df2021 = df2021.query('CATEGORY not in @excluded_categories')\n",
    "df2021 = df2021[included_columns]"
   ]
  },
  {
   "cell_type": "code",
   "execution_count": 15,
   "id": "c1de75f1",
   "metadata": {},
   "outputs": [
    {
     "data": {
      "text/html": [
       "<div>\n",
       "<style scoped>\n",
       "    .dataframe tbody tr th:only-of-type {\n",
       "        vertical-align: middle;\n",
       "    }\n",
       "\n",
       "    .dataframe tbody tr th {\n",
       "        vertical-align: top;\n",
       "    }\n",
       "\n",
       "    .dataframe thead th {\n",
       "        text-align: right;\n",
       "    }\n",
       "</style>\n",
       "<table border=\"1\" class=\"dataframe\">\n",
       "  <thead>\n",
       "    <tr style=\"text-align: right;\">\n",
       "      <th></th>\n",
       "      <th>LURN_SAK</th>\n",
       "      <th>INCIDENT_DATE</th>\n",
       "      <th>CATEGORY</th>\n",
       "      <th>STAT</th>\n",
       "      <th>ADDRESS</th>\n",
       "      <th>LONGITUDE</th>\n",
       "      <th>LATITUDE</th>\n",
       "      <th>PART_CATEGORY</th>\n",
       "      <th>CITY</th>\n",
       "      <th>ZIP</th>\n",
       "      <th>UNIT_NAME</th>\n",
       "    </tr>\n",
       "  </thead>\n",
       "  <tbody>\n",
       "    <tr>\n",
       "      <th>0</th>\n",
       "      <td>19621802</td>\n",
       "      <td>06/11/2021 03:06:00 AM</td>\n",
       "      <td>VANDALISM</td>\n",
       "      <td>263</td>\n",
       "      <td>3600 IMPERIAL HWY, LYNWOOD, CA</td>\n",
       "      <td>-118.201</td>\n",
       "      <td>33.931</td>\n",
       "      <td>2</td>\n",
       "      <td>LYNWOOD</td>\n",
       "      <td>NaN</td>\n",
       "      <td>CENTURY</td>\n",
       "    </tr>\n",
       "    <tr>\n",
       "      <th>2</th>\n",
       "      <td>19602385</td>\n",
       "      <td>05/19/2021 03:30:00 PM</td>\n",
       "      <td>GRAND THEFT AUTO</td>\n",
       "      <td>91</td>\n",
       "      <td>3300 LYNOAK DR, CLAREMONT, CA 91711</td>\n",
       "      <td>-117.739</td>\n",
       "      <td>34.104</td>\n",
       "      <td>1</td>\n",
       "      <td>CLAREMONT</td>\n",
       "      <td>91711.0</td>\n",
       "      <td>SAN DIMAS</td>\n",
       "    </tr>\n",
       "    <tr>\n",
       "      <th>3</th>\n",
       "      <td>19631339</td>\n",
       "      <td>06/24/2021 01:00:00 AM</td>\n",
       "      <td>GRAND THEFT AUTO</td>\n",
       "      <td>91</td>\n",
       "      <td>22400 S ISLAND AVE, CARSON, CA</td>\n",
       "      <td>-118.266</td>\n",
       "      <td>33.822</td>\n",
       "      <td>1</td>\n",
       "      <td>CARSON</td>\n",
       "      <td>NaN</td>\n",
       "      <td>CARSON</td>\n",
       "    </tr>\n",
       "    <tr>\n",
       "      <th>4</th>\n",
       "      <td>19559742</td>\n",
       "      <td>04/03/2021 12:00:00 PM</td>\n",
       "      <td>LARCENY THEFT</td>\n",
       "      <td>389</td>\n",
       "      <td>1700 MANZANITA PARK AVE, MALIBU, CA</td>\n",
       "      <td>-118.647</td>\n",
       "      <td>34.067</td>\n",
       "      <td>1</td>\n",
       "      <td>MALIBU</td>\n",
       "      <td>NaN</td>\n",
       "      <td>MALIBU/LOST HILLS</td>\n",
       "    </tr>\n",
       "    <tr>\n",
       "      <th>5</th>\n",
       "      <td>19668891</td>\n",
       "      <td>08/03/2021 05:28:00 AM</td>\n",
       "      <td>LARCENY THEFT</td>\n",
       "      <td>89</td>\n",
       "      <td>37500 OAKHILL ST, PALMDALE, CA 93552</td>\n",
       "      <td>-118.048</td>\n",
       "      <td>34.565</td>\n",
       "      <td>1</td>\n",
       "      <td>PALMDALE</td>\n",
       "      <td>93552.0</td>\n",
       "      <td>PALMDALE</td>\n",
       "    </tr>\n",
       "  </tbody>\n",
       "</table>\n",
       "</div>"
      ],
      "text/plain": [
       "   LURN_SAK           INCIDENT_DATE          CATEGORY  STAT  \\\n",
       "0  19621802  06/11/2021 03:06:00 AM         VANDALISM   263   \n",
       "2  19602385  05/19/2021 03:30:00 PM  GRAND THEFT AUTO    91   \n",
       "3  19631339  06/24/2021 01:00:00 AM  GRAND THEFT AUTO    91   \n",
       "4  19559742  04/03/2021 12:00:00 PM     LARCENY THEFT   389   \n",
       "5  19668891  08/03/2021 05:28:00 AM     LARCENY THEFT    89   \n",
       "\n",
       "                                ADDRESS  LONGITUDE  LATITUDE  PART_CATEGORY  \\\n",
       "0        3600 IMPERIAL HWY, LYNWOOD, CA   -118.201    33.931              2   \n",
       "2   3300 LYNOAK DR, CLAREMONT, CA 91711   -117.739    34.104              1   \n",
       "3        22400 S ISLAND AVE, CARSON, CA   -118.266    33.822              1   \n",
       "4   1700 MANZANITA PARK AVE, MALIBU, CA   -118.647    34.067              1   \n",
       "5  37500 OAKHILL ST, PALMDALE, CA 93552   -118.048    34.565              1   \n",
       "\n",
       "        CITY      ZIP          UNIT_NAME  \n",
       "0    LYNWOOD      NaN            CENTURY  \n",
       "2  CLAREMONT  91711.0          SAN DIMAS  \n",
       "3     CARSON      NaN             CARSON  \n",
       "4     MALIBU      NaN  MALIBU/LOST HILLS  \n",
       "5   PALMDALE  93552.0           PALMDALE  "
      ]
     },
     "execution_count": 15,
     "metadata": {},
     "output_type": "execute_result"
    }
   ],
   "source": [
    "df2021.head()"
   ]
  },
  {
   "cell_type": "code",
   "execution_count": 21,
   "id": "674f186c",
   "metadata": {},
   "outputs": [
    {
     "data": {
      "text/plain": [
       "False"
      ]
     },
     "execution_count": 21,
     "metadata": {},
     "output_type": "execute_result"
    }
   ],
   "source": [
    "boundaries[0][0]<-119.35<boundaries[0][1]"
   ]
  },
  {
   "cell_type": "code",
   "execution_count": 7,
   "id": "bf51408b",
   "metadata": {},
   "outputs": [],
   "source": [
    "#data filter\n",
    "df2021 = df2021.query('CATEGORY not in @excluded_categories')\n",
    "df2021 = df2021[included_columns]\n",
    "df2021_filtered = df2021.query('@boundaries[0][0] < LONGITUDE < @boundaries[0][1]')\n",
    "df2021_filtered = df2021_filtered.query('@boundaries[1][0] < LATITUDE < @boundaries[1][1]')\n"
   ]
  },
  {
   "cell_type": "code",
   "execution_count": 40,
   "id": "61114c5a",
   "metadata": {},
   "outputs": [
    {
     "data": {
      "text/plain": [
       "LARCENY THEFT                   942\n",
       "NON-AGGRAVATED ASSAULTS         346\n",
       "BURGLARY                        306\n",
       "VANDALISM                       284\n",
       "GRAND THEFT AUTO                162\n",
       "AGGRAVATED ASSAULT              134\n",
       "MISDEMEANORS MISCELLANEOUS      132\n",
       "NARCOTICS                       124\n",
       "ROBBERY                         112\n",
       "DRUNK DRIVING VEHICLE / BOAT     79\n",
       "DRUNK / ALCOHOL / DRUGS          61\n",
       "WEAPON LAWS                      49\n",
       "FELONIES MISCELLANEOUS           49\n",
       "FORGERY                          34\n",
       "SEX OFFENSES MISDEMEANORS        28\n",
       "DISORDERLY CONDUCT               21\n",
       "ARSON                            14\n",
       "FORCIBLE RAPE                     4\n",
       "SEX OFFENSES FELONIES             4\n",
       "FEDERAL OFFENSES WITH MONEY       3\n",
       "OFFENSES AGAINST FAMILY           3\n",
       "CRIMINAL HOMICIDE                 1\n",
       "Name: CATEGORY, dtype: int64"
      ]
     },
     "execution_count": 40,
     "metadata": {},
     "output_type": "execute_result"
    }
   ],
   "source": [
    "df2021_filtered['CATEGORY'].value_counts()"
   ]
  },
  {
   "cell_type": "code",
   "execution_count": 41,
   "id": "47a9cdf0",
   "metadata": {},
   "outputs": [],
   "source": [
    "df2021_filtered.to_csv('filtered_df.csv')"
   ]
  },
  {
   "cell_type": "code",
   "execution_count": 8,
   "id": "15bbf723",
   "metadata": {},
   "outputs": [],
   "source": [
    "df2020 = pd.read_csv('2020-PART_I_AND_II_CRIMES.csv')"
   ]
  },
  {
   "cell_type": "code",
   "execution_count": 34,
   "id": "b9bb7eae",
   "metadata": {},
   "outputs": [
    {
     "name": "stdout",
     "output_type": "stream",
     "text": [
      "<class 'pandas.core.frame.DataFrame'>\n",
      "RangeIndex: 152556 entries, 0 to 152555\n",
      "Data columns (total 19 columns):\n",
      " #   Column                  Non-Null Count   Dtype  \n",
      "---  ------                  --------------   -----  \n",
      " 0   LURN_SAK                152556 non-null  int64  \n",
      " 1   INCIDENT_DATE           152556 non-null  object \n",
      " 2   INCIDENT_REPORTED_DATE  152556 non-null  object \n",
      " 3   CATEGORY                152556 non-null  object \n",
      " 4   STAT                    152556 non-null  int64  \n",
      " 5   STAT_DESC               152556 non-null  object \n",
      " 6   ADDRESS                 150833 non-null  object \n",
      " 7   STREET                  149870 non-null  object \n",
      " 8   CITY                    150833 non-null  object \n",
      " 9   ZIP                     84838 non-null   float64\n",
      " 10  INCIDENT_ID             152556 non-null  object \n",
      " 11  REPORTING_DISTRICT      152556 non-null  int64  \n",
      " 12  SEQ                     152556 non-null  int64  \n",
      " 13  GANG_RELATED            152556 non-null  object \n",
      " 14  UNIT_ID                 152556 non-null  object \n",
      " 15  UNIT_NAME               152556 non-null  object \n",
      " 16  LONGITUDE               144031 non-null  float64\n",
      " 17  LATITUDE                144031 non-null  float64\n",
      " 18  PART_CATEGORY           152556 non-null  int64  \n",
      "dtypes: float64(3), int64(5), object(11)\n",
      "memory usage: 22.1+ MB\n"
     ]
    }
   ],
   "source": [
    "df2020.info()"
   ]
  },
  {
   "cell_type": "code",
   "execution_count": 35,
   "id": "d17d3840",
   "metadata": {},
   "outputs": [
    {
     "name": "stdout",
     "output_type": "stream",
     "text": [
      "<class 'pandas.core.frame.DataFrame'>\n",
      "Int64Index: 119104 entries, 0 to 141798\n",
      "Data columns (total 19 columns):\n",
      " #   Column                  Non-Null Count   Dtype  \n",
      "---  ------                  --------------   -----  \n",
      " 0   LURN_SAK                119104 non-null  int64  \n",
      " 1   INCIDENT_DATE           119104 non-null  object \n",
      " 2   INCIDENT_REPORTED_DATE  119104 non-null  object \n",
      " 3   CATEGORY                119104 non-null  object \n",
      " 4   STAT                    119104 non-null  int64  \n",
      " 5   STAT_DESC               119104 non-null  object \n",
      " 6   ADDRESS                 116672 non-null  object \n",
      " 7   STREET                  116107 non-null  object \n",
      " 8   CITY                    116672 non-null  object \n",
      " 9   ZIP                     65317 non-null   float64\n",
      " 10  INCIDENT_ID             119104 non-null  object \n",
      " 11  REPORTING_DISTRICT      119104 non-null  int64  \n",
      " 12  SEQ                     119104 non-null  int64  \n",
      " 13  GANG_RELATED            119104 non-null  object \n",
      " 14  UNIT_ID                 119104 non-null  object \n",
      " 15  UNIT_NAME               119104 non-null  object \n",
      " 16  LONGITUDE               112063 non-null  float64\n",
      " 17  LATITUDE                112063 non-null  float64\n",
      " 18  PART_CATEGORY           119104 non-null  int64  \n",
      "dtypes: float64(3), int64(5), object(11)\n",
      "memory usage: 18.2+ MB\n"
     ]
    }
   ],
   "source": [
    "df2021.info()"
   ]
  },
  {
   "cell_type": "code",
   "execution_count": 16,
   "id": "10008931",
   "metadata": {},
   "outputs": [],
   "source": [
    "df2020 = df2020.query('CATEGORY not in @excluded_categories')\n",
    "df2020 = df2020[included_columns]\n",
    "df2020_filtered = df2020.query('@boundaries[0][0] < LONGITUDE < @boundaries[0][1]')\n",
    "df2020_filtered = df2020_filtered.query('@boundaries[1][0] < LATITUDE < @boundaries[1][1]')"
   ]
  },
  {
   "cell_type": "code",
   "execution_count": 17,
   "id": "51e8170e",
   "metadata": {},
   "outputs": [
    {
     "name": "stdout",
     "output_type": "stream",
     "text": [
      "<class 'pandas.core.frame.DataFrame'>\n",
      "Int64Index: 124774 entries, 0 to 152555\n",
      "Data columns (total 11 columns):\n",
      " #   Column         Non-Null Count   Dtype  \n",
      "---  ------         --------------   -----  \n",
      " 0   LURN_SAK       124774 non-null  int64  \n",
      " 1   INCIDENT_DATE  124774 non-null  object \n",
      " 2   CATEGORY       124774 non-null  object \n",
      " 3   STAT           124774 non-null  int64  \n",
      " 4   ADDRESS        123382 non-null  object \n",
      " 5   LONGITUDE      118166 non-null  float64\n",
      " 6   LATITUDE       118166 non-null  float64\n",
      " 7   PART_CATEGORY  124774 non-null  int64  \n",
      " 8   CITY           123382 non-null  object \n",
      " 9   ZIP            72750 non-null   float64\n",
      " 10  UNIT_NAME      124774 non-null  object \n",
      "dtypes: float64(3), int64(3), object(5)\n",
      "memory usage: 11.4+ MB\n"
     ]
    }
   ],
   "source": [
    "df2020.info()"
   ]
  },
  {
   "cell_type": "code",
   "execution_count": 46,
   "id": "46ef2ae5",
   "metadata": {},
   "outputs": [],
   "source": [
    "df2020_filtered.to_csv('filtered_df.csv', mode='a', header=False)"
   ]
  },
  {
   "cell_type": "code",
   "execution_count": 10,
   "id": "b0fdad7b",
   "metadata": {},
   "outputs": [],
   "source": [
    "df2022 = pd.read_csv('PART_I_AND_II_CRIMES-YTD.csv')"
   ]
  },
  {
   "cell_type": "code",
   "execution_count": 18,
   "id": "0fa7dc31",
   "metadata": {},
   "outputs": [],
   "source": [
    "df2022 = df2022.query('CATEGORY not in @excluded_categories')\n",
    "df2022 = df2022[included_columns]\n",
    "df2022_filtered = df2022.query('@boundaries[0][0] < LONGITUDE < @boundaries[0][1]')\n",
    "df2022_filtered = df2022_filtered.query('@boundaries[1][0] < LATITUDE < @boundaries[1][1]')"
   ]
  },
  {
   "cell_type": "code",
   "execution_count": 49,
   "id": "cf7e1458",
   "metadata": {},
   "outputs": [],
   "source": [
    "df2022_filtered.to_csv('filtered_df.csv', mode='a', header=False)"
   ]
  },
  {
   "cell_type": "code",
   "execution_count": 12,
   "id": "cac56f83",
   "metadata": {},
   "outputs": [],
   "source": [
    "df2019 = pd.read_csv('2019-PART_I_AND_II_CRIMES.csv')\n",
    "df2018 = pd.read_csv('2018-PART_I_AND_II_CRIMES.csv')"
   ]
  },
  {
   "cell_type": "code",
   "execution_count": 19,
   "id": "a1585703",
   "metadata": {},
   "outputs": [],
   "source": [
    "df2019 = df2019.query('CATEGORY not in @excluded_categories')\n",
    "df2019 = df2019[included_columns]\n",
    "df2019_filtered = df2019.query('@boundaries[0][0] < LONGITUDE < @boundaries[0][1]')\n",
    "df2019_filtered = df2019_filtered.query('@boundaries[1][0] < LATITUDE < @boundaries[1][1]')"
   ]
  },
  {
   "cell_type": "code",
   "execution_count": 20,
   "id": "fd74264f",
   "metadata": {},
   "outputs": [],
   "source": [
    "df2018 = df2018.query('CATEGORY not in @excluded_categories')\n",
    "df2018 = df2018[included_columns]\n",
    "df2018_filtered = df2018.query('@boundaries[0][0] < LONGITUDE < @boundaries[0][1]')\n",
    "df2018_filtered = df2018_filtered.query('@boundaries[1][0] < LATITUDE < @boundaries[1][1]')"
   ]
  },
  {
   "cell_type": "code",
   "execution_count": 21,
   "id": "80980910",
   "metadata": {},
   "outputs": [],
   "source": [
    "df2018.to_csv('2018-2022.csv')\n",
    "df2019.to_csv('2018-2022.csv', mode='a', header=False)\n",
    "df2020.to_csv('2018-2022.csv', mode='a', header=False)\n",
    "df2021.to_csv('2018-2022.csv', mode='a', header=False)\n",
    "df2022.to_csv('2018-2022.csv', mode='a', header=False)\n"
   ]
  },
  {
   "cell_type": "code",
   "execution_count": 22,
   "id": "a556c8f6",
   "metadata": {},
   "outputs": [],
   "source": [
    "df2022r = pd.read_csv('PART_I_AND_II_CRIMES.csv')\n",
    "df2022r = df2022r.query('CATEGORY not in @excluded_categories')\n",
    "df2022r = df2022r[included_columns]\n",
    "df2022r_filtered = df2022r.query('@boundaries[0][0] < LONGITUDE < @boundaries[0][1]')\n",
    "df2022r_filtered = df2022r_filtered.query('@boundaries[1][0] < LATITUDE < @boundaries[1][1]')"
   ]
  },
  {
   "cell_type": "code",
   "execution_count": 23,
   "id": "9db9a000",
   "metadata": {},
   "outputs": [],
   "source": [
    "df2022r.to_csv('2018-2022.csv', mode='a', header=False)"
   ]
  },
  {
   "cell_type": "code",
   "execution_count": null,
   "id": "62816db5",
   "metadata": {},
   "outputs": [],
   "source": []
  }
 ],
 "metadata": {
  "kernelspec": {
   "display_name": "Python 3.10.5 ('ox')",
   "language": "python",
   "name": "python3"
  },
  "language_info": {
   "codemirror_mode": {
    "name": "ipython",
    "version": 3
   },
   "file_extension": ".py",
   "mimetype": "text/x-python",
   "name": "python",
   "nbconvert_exporter": "python",
   "pygments_lexer": "ipython3",
   "version": "3.10.5"
  },
  "vscode": {
   "interpreter": {
    "hash": "3567b8a1e4df6a15096996a26e3569074869aedbc57b3cba56774ce72929510b"
   }
  }
 },
 "nbformat": 4,
 "nbformat_minor": 5
}
